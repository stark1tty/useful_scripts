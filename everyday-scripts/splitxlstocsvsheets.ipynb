{
 "cells": [
  {
   "cell_type": "code",
   "execution_count": 1,
   "metadata": {},
   "outputs": [
    {
     "ename": "",
     "evalue": "",
     "output_type": "error",
     "traceback": [
      "\u001b[1;31mThe Kernel crashed while executing code in the the current cell or a previous cell. Please review the code in the cell(s) to identify a possible cause of the failure. Click <a href='https://aka.ms/vscodeJupyterKernelCrash'>here</a> for more info. View Jupyter <a href='command:jupyter.viewOutput'>log</a> for further details."
     ]
    }
   ],
   "source": [
    "import pandas as pd\n",
    "import os\n",
    "\n",
    "def split_excel_to_csv(excel_file):\n",
    "    # Read the Excel file\n",
    "    xls = pd.ExcelFile(excel_file)\n",
    "\n",
    "    # Create a new folder to store the CSV files\n",
    "    output_folder = os.path.splitext(excel_file)[0]\n",
    "    os.makedirs(output_folder, exist_ok=True)\n",
    "\n",
    "    # Loop through each sheet in the Excel file\n",
    "    for sheet_name in xls.sheet_names:\n",
    "        # Read the sheet as a DataFrame\n",
    "        df = xls.parse(sheet_name)\n",
    "\n",
    "        # Generate the CSV file name for this sheet\n",
    "        csv_file = os.path.join(output_folder, f\"{sheet_name}.csv\")\n",
    "\n",
    "        # Save the DataFrame as a CSV file\n",
    "        df.to_csv(csv_file, index=False)\n",
    "\n",
    "if __name__ == \"__main__\":\n",
    "    # Replace the 'excel_file' with the path to your Excel file\n",
    "    excel_file = r\"X:\\Dropbox\\Digital_Garden\\PhD\\Data\\06 Palaeoecology\\Lincolnshire Lakes\\Data\\210524 All Proxies.xlsx\"\n",
    "    split_excel_to_csv(excel_file)\n"
   ]
  }
 ],
 "metadata": {
  "kernelspec": {
   "display_name": "Spark",
   "language": "python",
   "name": "spark"
  },
  "language_info": {
   "codemirror_mode": {
    "name": "ipython",
    "version": 3
   },
   "file_extension": ".py",
   "mimetype": "text/x-python",
   "name": "python",
   "nbconvert_exporter": "python",
   "pygments_lexer": "ipython3",
   "version": "3.10.9"
  },
  "orig_nbformat": 4
 },
 "nbformat": 4,
 "nbformat_minor": 2
}
